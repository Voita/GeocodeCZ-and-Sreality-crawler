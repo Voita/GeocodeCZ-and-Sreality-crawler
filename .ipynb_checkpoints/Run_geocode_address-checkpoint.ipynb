{
 "cells": [
  {
   "cell_type": "markdown",
   "metadata": {},
   "source": [
    "# Running script for geocoding\n",
    "This script loads predefined functions and perform geocoding on given data"
   ]
  },
  {
   "cell_type": "code",
   "execution_count": 1,
   "metadata": {},
   "outputs": [],
   "source": [
    "%load_ext autoreload\n",
    "%autoreload 2\n",
    "import f_geocode_address as geo\n",
    "\n",
    "import pandas as pd\n",
    "import requests \n",
    "from bs4 import BeautifulSoup\n",
    "from IPython.core.debugger import Tracer\n",
    "import ast\n",
    "import pandas as pd\n",
    "import numpy as np\n",
    "import tqdm"
   ]
  },
  {
   "cell_type": "code",
   "execution_count": 2,
   "metadata": {},
   "outputs": [],
   "source": [
    "#load api key for ggoogle api\n",
    "import apicka as api"
   ]
  },
  {
   "cell_type": "code",
   "execution_count": 3,
   "metadata": {},
   "outputs": [],
   "source": [
    "API_KEY = api.API_KEY"
   ]
  },
  {
   "cell_type": "markdown",
   "metadata": {},
   "source": [
    "## Generate sample data"
   ]
  },
  {
   "cell_type": "code",
   "execution_count": 4,
   "metadata": {},
   "outputs": [
    {
     "data": {
      "text/html": [
       "<div>\n",
       "<style scoped>\n",
       "    .dataframe tbody tr th:only-of-type {\n",
       "        vertical-align: middle;\n",
       "    }\n",
       "\n",
       "    .dataframe tbody tr th {\n",
       "        vertical-align: top;\n",
       "    }\n",
       "\n",
       "    .dataframe thead th {\n",
       "        text-align: right;\n",
       "    }\n",
       "</style>\n",
       "<table border=\"1\" class=\"dataframe\">\n",
       "  <thead>\n",
       "    <tr style=\"text-align: right;\">\n",
       "      <th></th>\n",
       "      <th>fulladdress</th>\n",
       "      <th>obec</th>\n",
       "      <th>castobce</th>\n",
       "      <th>ulice</th>\n",
       "      <th>cp</th>\n",
       "      <th>co</th>\n",
       "      <th>psc</th>\n",
       "    </tr>\n",
       "  </thead>\n",
       "  <tbody>\n",
       "    <tr>\n",
       "      <th>0</th>\n",
       "      <td>Jugoslávských partyzánů 1580/3, Praha 6</td>\n",
       "      <td>Praha</td>\n",
       "      <td>Praha 6</td>\n",
       "      <td>Jugoslávských partyzánů</td>\n",
       "      <td>1580</td>\n",
       "      <td>3.0</td>\n",
       "      <td>None</td>\n",
       "    </tr>\n",
       "    <tr>\n",
       "      <th>1</th>\n",
       "      <td>Duškova 7, Praha 5</td>\n",
       "      <td>Praha</td>\n",
       "      <td>Praha 5</td>\n",
       "      <td>Duškova</td>\n",
       "      <td>7</td>\n",
       "      <td>NaN</td>\n",
       "      <td>None</td>\n",
       "    </tr>\n",
       "    <tr>\n",
       "      <th>2</th>\n",
       "      <td>Opatovická 160/18, Praha</td>\n",
       "      <td>Praha</td>\n",
       "      <td>None</td>\n",
       "      <td>Opatovická</td>\n",
       "      <td>160</td>\n",
       "      <td>18.0</td>\n",
       "      <td>None</td>\n",
       "    </tr>\n",
       "    <tr>\n",
       "      <th>3</th>\n",
       "      <td>nám. W. Churchilla 4, Praha 3</td>\n",
       "      <td>Praha</td>\n",
       "      <td>Praha 3</td>\n",
       "      <td>nám. W. Churchilla</td>\n",
       "      <td>4</td>\n",
       "      <td>NaN</td>\n",
       "      <td>None</td>\n",
       "    </tr>\n",
       "    <tr>\n",
       "      <th>4</th>\n",
       "      <td>Slezská 68, Praha 3 - Vinohrady</td>\n",
       "      <td>Praha</td>\n",
       "      <td>Vinohrady</td>\n",
       "      <td>Slezská</td>\n",
       "      <td>68</td>\n",
       "      <td>NaN</td>\n",
       "      <td>None</td>\n",
       "    </tr>\n",
       "  </tbody>\n",
       "</table>\n",
       "</div>"
      ],
      "text/plain": [
       "                               fulladdress   obec   castobce  \\\n",
       "0  Jugoslávských partyzánů 1580/3, Praha 6  Praha    Praha 6   \n",
       "1                       Duškova 7, Praha 5  Praha    Praha 5   \n",
       "2                Opatovická 160/18, Praha   Praha       None   \n",
       "3            nám. W. Churchilla 4, Praha 3  Praha    Praha 3   \n",
       "4          Slezská 68, Praha 3 - Vinohrady  Praha  Vinohrady   \n",
       "\n",
       "                     ulice    cp    co   psc  \n",
       "0  Jugoslávských partyzánů  1580   3.0  None  \n",
       "1                  Duškova     7   NaN  None  \n",
       "2               Opatovická   160  18.0  None  \n",
       "3       nám. W. Churchilla     4   NaN  None  \n",
       "4                  Slezská    68   NaN  None  "
      ]
     },
     "execution_count": 4,
     "metadata": {},
     "output_type": "execute_result"
    }
   ],
   "source": [
    "#test\n",
    "sample = {'fulladdress': [\"Jugoslávských partyzánů 1580/3, Praha 6\",\n",
    "                           \"Duškova 7, Praha 5\",\n",
    "                           \"Opatovická 160/18, Praha \",\n",
    "                           \"nám. W. Churchilla 4, Praha 3\",\n",
    "                           \"Slezská 68, Praha 3 - Vinohrady\"],\n",
    "        'obec': ['Praha', 'Praha', 'Praha', 'Praha', 'Praha'],\n",
    "        'castobce': ['Praha 6', 'Praha 5', None, 'Praha 3', 'Vinohrady'],\n",
    "        'ulice': ['Jugoslávských partyzánů','Duškova', 'Opatovická','nám. W. Churchilla', 'Slezská'],\n",
    "        'cp': [1580, 7, 160, 4, 68],\n",
    "        'co': [3,None,18,None, None],\n",
    "        'psc': [None,None,None,None,None]}\n",
    "\n",
    "sampleadres = pd.DataFrame.from_dict(sample)\n",
    "sampleadres"
   ]
  },
  {
   "cell_type": "code",
   "execution_count": 5,
   "metadata": {},
   "outputs": [
    {
     "name": "stderr",
     "output_type": "stream",
     "text": [
      "C:\\Users\\vnedved001\\Documents\\IES\\GeocodeCZ-and-Sreality-crawler\\f_geocode_address.py:335: FutureWarning: convert_objects is deprecated.  To re-infer data dtypes for object columns, use DataFrame.infer_objects()\n",
      "For all other conversions use the data-type specific converters pd.to_datetime, pd.to_timedelta and pd.to_numeric.\n",
      "  src = pd.read_csv(self.srctable_path).convert_objects(convert_numeric=True)\n"
     ]
    },
    {
     "name": "stdout",
     "output_type": "stream",
     "text": [
      "Wall time: 17.8 s\n"
     ]
    }
   ],
   "source": [
    "%%time\n",
    "a = geo.geoWrapper(sampleadres,API_KEY)"
   ]
  },
  {
   "cell_type": "code",
   "execution_count": 6,
   "metadata": {},
   "outputs": [
    {
     "data": {
      "application/vnd.jupyter.widget-view+json": {
       "model_id": "b3a71c1de7334e198ed6b5780829f330",
       "version_major": 2,
       "version_minor": 0
      },
      "text/plain": [
       "HBox(children=(IntProgress(value=1, bar_style='info', max=1), HTML(value='')))"
      ]
     },
     "metadata": {},
     "output_type": "display_data"
    },
    {
     "name": "stderr",
     "output_type": "stream",
     "text": [
      "C:\\Users\\vnedved001\\Documents\\IES\\GeocodeCZ-and-Sreality-crawler\\f_geocode_address.py:386: FutureWarning: convert_objects is deprecated.  To re-infer data dtypes for object columns, use DataFrame.infer_objects()\n",
      "For all other conversions use the data-type specific converters pd.to_datetime, pd.to_timedelta and pd.to_numeric.\n",
      "  self.addresaPD_beforeConversion = self.addresaPD.convert_objects(convert_numeric=True)\n"
     ]
    },
    {
     "name": "stdout",
     "output_type": "stream",
     "text": [
      "\n"
     ]
    },
    {
     "data": {
      "application/vnd.jupyter.widget-view+json": {
       "model_id": "b492a05ce5ca4e1fbe2251f0d1667450",
       "version_major": 2,
       "version_minor": 0
      },
      "text/plain": [
       "HBox(children=(IntProgress(value=1, bar_style='info', max=1), HTML(value='')))"
      ]
     },
     "metadata": {},
     "output_type": "display_data"
    },
    {
     "name": "stdout",
     "output_type": "stream",
     "text": [
      "\n",
      "Estimated price of the query is 0.2 USD. Do you wanna proceed? yes/noyes\n",
      "Wall time: 3min 53s\n"
     ]
    }
   ],
   "source": [
    "%%time\n",
    "a.auto(True)"
   ]
  },
  {
   "cell_type": "code",
   "execution_count": 7,
   "metadata": {},
   "outputs": [
    {
     "data": {
      "text/html": [
       "<div>\n",
       "<style scoped>\n",
       "    .dataframe tbody tr th:only-of-type {\n",
       "        vertical-align: middle;\n",
       "    }\n",
       "\n",
       "    .dataframe tbody tr th {\n",
       "        vertical-align: top;\n",
       "    }\n",
       "\n",
       "    .dataframe thead th {\n",
       "        text-align: right;\n",
       "    }\n",
       "</style>\n",
       "<table border=\"1\" class=\"dataframe\">\n",
       "  <thead>\n",
       "    <tr style=\"text-align: right;\">\n",
       "      <th></th>\n",
       "      <th>fulladdress</th>\n",
       "      <th>obec</th>\n",
       "      <th>castobce</th>\n",
       "      <th>ulice</th>\n",
       "      <th>cp</th>\n",
       "      <th>co</th>\n",
       "      <th>psc</th>\n",
       "      <th>latitude</th>\n",
       "      <th>longitude</th>\n",
       "      <th>methodUsed</th>\n",
       "      <th>confidence</th>\n",
       "    </tr>\n",
       "  </thead>\n",
       "  <tbody>\n",
       "    <tr>\n",
       "      <th>0</th>\n",
       "      <td>Jugoslávských partyzánů 1580/3, Praha 6</td>\n",
       "      <td>Praha</td>\n",
       "      <td>Praha 6</td>\n",
       "      <td>Jugoslávských partyzánů</td>\n",
       "      <td>1580</td>\n",
       "      <td>3.0</td>\n",
       "      <td>None</td>\n",
       "      <td>NaN</td>\n",
       "      <td>NaN</td>\n",
       "      <td>NaN</td>\n",
       "      <td>NaN</td>\n",
       "    </tr>\n",
       "    <tr>\n",
       "      <th>1</th>\n",
       "      <td>Duškova 7, Praha 5</td>\n",
       "      <td>Praha</td>\n",
       "      <td>Praha 5</td>\n",
       "      <td>Duškova</td>\n",
       "      <td>7</td>\n",
       "      <td>NaN</td>\n",
       "      <td>None</td>\n",
       "      <td>NaN</td>\n",
       "      <td>NaN</td>\n",
       "      <td>NaN</td>\n",
       "      <td>NaN</td>\n",
       "    </tr>\n",
       "    <tr>\n",
       "      <th>2</th>\n",
       "      <td>Opatovická 160/18, Praha</td>\n",
       "      <td>Praha</td>\n",
       "      <td>None</td>\n",
       "      <td>Opatovická</td>\n",
       "      <td>160</td>\n",
       "      <td>18.0</td>\n",
       "      <td>None</td>\n",
       "      <td>743139.220000</td>\n",
       "      <td>1.043845e+06</td>\n",
       "      <td>join</td>\n",
       "      <td>1.0</td>\n",
       "    </tr>\n",
       "    <tr>\n",
       "      <th>3</th>\n",
       "      <td>nám. W. Churchilla 4, Praha 3</td>\n",
       "      <td>Praha</td>\n",
       "      <td>Praha 3</td>\n",
       "      <td>nám. W. Churchilla</td>\n",
       "      <td>4</td>\n",
       "      <td>NaN</td>\n",
       "      <td>None</td>\n",
       "      <td>50.084270</td>\n",
       "      <td>1.444116e+01</td>\n",
       "      <td>ruian</td>\n",
       "      <td>1.0</td>\n",
       "    </tr>\n",
       "    <tr>\n",
       "      <th>4</th>\n",
       "      <td>Slezská 68, Praha 3 - Vinohrady</td>\n",
       "      <td>Praha</td>\n",
       "      <td>Vinohrady</td>\n",
       "      <td>Slezská</td>\n",
       "      <td>68</td>\n",
       "      <td>NaN</td>\n",
       "      <td>None</td>\n",
       "      <td>50.076193</td>\n",
       "      <td>1.444959e+01</td>\n",
       "      <td>ruian</td>\n",
       "      <td>1.0</td>\n",
       "    </tr>\n",
       "  </tbody>\n",
       "</table>\n",
       "</div>"
      ],
      "text/plain": [
       "                               fulladdress   obec   castobce  \\\n",
       "0  Jugoslávských partyzánů 1580/3, Praha 6  Praha    Praha 6   \n",
       "1                       Duškova 7, Praha 5  Praha    Praha 5   \n",
       "2                Opatovická 160/18, Praha   Praha       None   \n",
       "3            nám. W. Churchilla 4, Praha 3  Praha    Praha 3   \n",
       "4          Slezská 68, Praha 3 - Vinohrady  Praha  Vinohrady   \n",
       "\n",
       "                     ulice    cp    co   psc       latitude     longitude  \\\n",
       "0  Jugoslávských partyzánů  1580   3.0  None            NaN           NaN   \n",
       "1                  Duškova     7   NaN  None            NaN           NaN   \n",
       "2               Opatovická   160  18.0  None  743139.220000  1.043845e+06   \n",
       "3       nám. W. Churchilla     4   NaN  None      50.084270  1.444116e+01   \n",
       "4                  Slezská    68   NaN  None      50.076193  1.444959e+01   \n",
       "\n",
       "  methodUsed  confidence  \n",
       "0        NaN         NaN  \n",
       "1        NaN         NaN  \n",
       "2       join         1.0  \n",
       "3      ruian         1.0  \n",
       "4      ruian         1.0  "
      ]
     },
     "execution_count": 7,
     "metadata": {},
     "output_type": "execute_result"
    }
   ],
   "source": [
    "a.dataFrame"
   ]
  },
  {
   "cell_type": "code",
   "execution_count": null,
   "metadata": {},
   "outputs": [],
   "source": []
  }
 ],
 "metadata": {
  "kernelspec": {
   "display_name": "Python 3",
   "language": "python",
   "name": "python3"
  },
  "language_info": {
   "codemirror_mode": {
    "name": "ipython",
    "version": 3
   },
   "file_extension": ".py",
   "mimetype": "text/x-python",
   "name": "python",
   "nbconvert_exporter": "python",
   "pygments_lexer": "ipython3",
   "version": "3.6.5"
  }
 },
 "nbformat": 4,
 "nbformat_minor": 2
}
