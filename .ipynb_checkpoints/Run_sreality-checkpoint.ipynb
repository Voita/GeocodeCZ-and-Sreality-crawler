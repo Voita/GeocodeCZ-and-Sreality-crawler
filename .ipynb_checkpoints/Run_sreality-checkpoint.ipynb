{
 "cells": [
  {
   "cell_type": "markdown",
   "metadata": {},
   "source": [
    "# Here we provide an example how to run sreality crawler"
   ]
  },
  {
   "cell_type": "code",
   "execution_count": 1,
   "metadata": {},
   "outputs": [],
   "source": [
    "from f_sreality import *"
   ]
  },
  {
   "cell_type": "markdown",
   "metadata": {},
   "source": [
    "### initialize the class and call auto method "
   ]
  },
  {
   "cell_type": "code",
   "execution_count": 2,
   "metadata": {},
   "outputs": [],
   "source": [
    "s = sreality()"
   ]
  },
  {
   "cell_type": "code",
   "execution_count": 8,
   "metadata": {},
   "outputs": [
    {
     "data": {
      "application/vnd.jupyter.widget-view+json": {
       "model_id": "0491ecd14282470cb399b9e8ecc347c7",
       "version_major": 2,
       "version_minor": 0
      },
      "text/plain": [
       "HBox(children=(IntProgress(value=0, max=1), HTML(value='')))"
      ]
     },
     "metadata": {},
     "output_type": "display_data"
    },
    {
     "name": "stdout",
     "output_type": "stream",
     "text": [
      "\n",
      "detailed urls stored.\n"
     ]
    },
    {
     "data": {
      "application/vnd.jupyter.widget-view+json": {
       "model_id": "c8eda8a517944b3b9e8e7d7e55ecb4ad",
       "version_major": 2,
       "version_minor": 0
      },
      "text/plain": [
       "HBox(children=(IntProgress(value=0, max=60), HTML(value='')))"
      ]
     },
     "metadata": {},
     "output_type": "display_data"
    },
    {
     "name": "stdout",
     "output_type": "stream",
     "text": [
      "\n",
      "Data downloaded and added to the master.\n",
      "Data stored to local.\n"
     ]
    }
   ],
   "source": [
    "s.auto(store=True, nofrecords= 1)"
   ]
  },
  {
   "cell_type": "code",
   "execution_count": 9,
   "metadata": {},
   "outputs": [
    {
     "data": {
      "text/html": [
       "<div>\n",
       "<style scoped>\n",
       "    .dataframe tbody tr th:only-of-type {\n",
       "        vertical-align: middle;\n",
       "    }\n",
       "\n",
       "    .dataframe tbody tr th {\n",
       "        vertical-align: top;\n",
       "    }\n",
       "\n",
       "    .dataframe thead th {\n",
       "        text-align: right;\n",
       "    }\n",
       "</style>\n",
       "<table border=\"1\" class=\"dataframe\">\n",
       "  <thead>\n",
       "    <tr style=\"text-align: right;\">\n",
       "      <th></th>\n",
       "      <th>index</th>\n",
       "      <th>aukce</th>\n",
       "      <th>cena_aukce</th>\n",
       "      <th>lokalita</th>\n",
       "      <th>cena</th>\n",
       "      <th>cena_czk_value</th>\n",
       "      <th>cena_czk_unit</th>\n",
       "      <th>cena_czk_name</th>\n",
       "      <th>name</th>\n",
       "      <th>lat</th>\n",
       "      <th>...</th>\n",
       "      <th>typ_inzeratu</th>\n",
       "      <th>kategorie</th>\n",
       "      <th>podkategorie</th>\n",
       "      <th>s_userid</th>\n",
       "      <th>s_mobile</th>\n",
       "      <th>s_active</th>\n",
       "      <th>s_web</th>\n",
       "      <th>s_name</th>\n",
       "      <th>s_email</th>\n",
       "      <th>image</th>\n",
       "    </tr>\n",
       "  </thead>\n",
       "  <tbody>\n",
       "    <tr>\n",
       "      <th>0</th>\n",
       "      <td>1037701468</td>\n",
       "      <td>False</td>\n",
       "      <td>0.0</td>\n",
       "      <td>České Budějovice, okres České Budějovice</td>\n",
       "      <td>1</td>\n",
       "      <td>1</td>\n",
       "      <td></td>\n",
       "      <td>Celková cena</td>\n",
       "      <td>Prodej  rodinného domu 435 m², pozemek 674 m²</td>\n",
       "      <td>48.974468</td>\n",
       "      <td>...</td>\n",
       "      <td>prodej</td>\n",
       "      <td>domy</td>\n",
       "      <td>rodinny</td>\n",
       "      <td>93045.0</td>\n",
       "      <td>800103010</td>\n",
       "      <td>True</td>\n",
       "      <td>http://www.rksting.cz</td>\n",
       "      <td>Realitní kancelář STING, s.r.o.</td>\n",
       "      <td>ceske.budejovice@rksting.cz</td>\n",
       "      <td>https://d18-a.sdn.szn.cz/d_18/c_img_G_i/fh5CBb...</td>\n",
       "    </tr>\n",
       "    <tr>\n",
       "      <th>1</th>\n",
       "      <td>1131253340</td>\n",
       "      <td>False</td>\n",
       "      <td>0.0</td>\n",
       "      <td>ulice K Palečku, Praha 9 - část obce Horní Poč...</td>\n",
       "      <td>3695000</td>\n",
       "      <td>3695000</td>\n",
       "      <td></td>\n",
       "      <td>Celková cena</td>\n",
       "      <td>Prodej bytu 1+kk 41 m²</td>\n",
       "      <td>50.105160</td>\n",
       "      <td>...</td>\n",
       "      <td>prodej</td>\n",
       "      <td>byty</td>\n",
       "      <td>1+kk</td>\n",
       "      <td>10746.0</td>\n",
       "      <td>777150350</td>\n",
       "      <td>True</td>\n",
       "      <td>http://www.atlanticreality.cz</td>\n",
       "      <td>ATLANTIC reality, s.r.o.</td>\n",
       "      <td>info@atlanticreality.cz</td>\n",
       "      <td>https://d18-a.sdn.szn.cz/d_18/c_img_H_BA/YvtBA...</td>\n",
       "    </tr>\n",
       "    <tr>\n",
       "      <th>2</th>\n",
       "      <td>1148358236</td>\n",
       "      <td>False</td>\n",
       "      <td>0.0</td>\n",
       "      <td>Chrudim - část obce Topol, okres Chrudim</td>\n",
       "      <td>3390000</td>\n",
       "      <td>3390000</td>\n",
       "      <td></td>\n",
       "      <td>Celková cena</td>\n",
       "      <td>Prodej  rodinného domu 200 m², pozemek 1 386 m²</td>\n",
       "      <td>49.960724</td>\n",
       "      <td>...</td>\n",
       "      <td>prodej</td>\n",
       "      <td>domy</td>\n",
       "      <td>rodinny</td>\n",
       "      <td>55967.0</td>\n",
       "      <td>800103010</td>\n",
       "      <td>True</td>\n",
       "      <td>http://www.rksting.cz</td>\n",
       "      <td>Realitní kancelář STING, s.r.o.</td>\n",
       "      <td>chrudim@rksting.cz</td>\n",
       "      <td>https://d18-a.sdn.szn.cz/d_18/c_img_H_BB/Pg4BJ...</td>\n",
       "    </tr>\n",
       "    <tr>\n",
       "      <th>3</th>\n",
       "      <td>1327271516</td>\n",
       "      <td>False</td>\n",
       "      <td>0.0</td>\n",
       "      <td>Praha 5</td>\n",
       "      <td>5600000</td>\n",
       "      <td>5600000</td>\n",
       "      <td></td>\n",
       "      <td>Celková cena</td>\n",
       "      <td>Prodej bytu 2+1 68 m²</td>\n",
       "      <td>50.083549</td>\n",
       "      <td>...</td>\n",
       "      <td>prodej</td>\n",
       "      <td>byty</td>\n",
       "      <td>2+1</td>\n",
       "      <td>70122.0</td>\n",
       "      <td>725873455</td>\n",
       "      <td>True</td>\n",
       "      <td>http://www.psn.cz</td>\n",
       "      <td>PSN, s.r.o.</td>\n",
       "      <td>psn@psn.cz</td>\n",
       "      <td>https://d18-a.sdn.szn.cz/d_18/c_img_G_BE/YfhBf...</td>\n",
       "    </tr>\n",
       "    <tr>\n",
       "      <th>4</th>\n",
       "      <td>1340014172</td>\n",
       "      <td>False</td>\n",
       "      <td>0.0</td>\n",
       "      <td>ulice Vrchlického, Praha 5 - část obce Košíře</td>\n",
       "      <td>4750000</td>\n",
       "      <td>4750000</td>\n",
       "      <td></td>\n",
       "      <td>Celková cena</td>\n",
       "      <td>Prodej bytu 3+1 75 m²</td>\n",
       "      <td>50.069832</td>\n",
       "      <td>...</td>\n",
       "      <td>prodej</td>\n",
       "      <td>byty</td>\n",
       "      <td>3+1</td>\n",
       "      <td>21014.0</td>\n",
       "      <td>603553458</td>\n",
       "      <td>True</td>\n",
       "      <td>http://www.adexreality.cz</td>\n",
       "      <td>ADEX REALITY, s.r.o.</td>\n",
       "      <td>info@adexreality.cz</td>\n",
       "      <td>https://d18-a.sdn.szn.cz/d_18/c_img_E_BM/MTDBs...</td>\n",
       "    </tr>\n",
       "  </tbody>\n",
       "</table>\n",
       "<p>5 rows × 34 columns</p>\n",
       "</div>"
      ],
      "text/plain": [
       "        index  aukce  cena_aukce  \\\n",
       "0  1037701468  False         0.0   \n",
       "1  1131253340  False         0.0   \n",
       "2  1148358236  False         0.0   \n",
       "3  1327271516  False         0.0   \n",
       "4  1340014172  False         0.0   \n",
       "\n",
       "                                            lokalita     cena  cena_czk_value  \\\n",
       "0           České Budějovice, okres České Budějovice        1               1   \n",
       "1  ulice K Palečku, Praha 9 - část obce Horní Poč...  3695000         3695000   \n",
       "2           Chrudim - část obce Topol, okres Chrudim  3390000         3390000   \n",
       "3                                            Praha 5  5600000         5600000   \n",
       "4      ulice Vrchlického, Praha 5 - část obce Košíře  4750000         4750000   \n",
       "\n",
       "  cena_czk_unit cena_czk_name  \\\n",
       "0                Celková cena   \n",
       "1                Celková cena   \n",
       "2                Celková cena   \n",
       "3                Celková cena   \n",
       "4                Celková cena   \n",
       "\n",
       "                                              name        lat  \\\n",
       "0    Prodej  rodinného domu 435 m², pozemek 674 m²  48.974468   \n",
       "1                           Prodej bytu 1+kk 41 m²  50.105160   \n",
       "2  Prodej  rodinného domu 200 m², pozemek 1 386 m²  49.960724   \n",
       "3                            Prodej bytu 2+1 68 m²  50.083549   \n",
       "4                            Prodej bytu 3+1 75 m²  50.069832   \n",
       "\n",
       "                         ...                          typ_inzeratu  kategorie  \\\n",
       "0                        ...                                prodej       domy   \n",
       "1                        ...                                prodej       byty   \n",
       "2                        ...                                prodej       domy   \n",
       "3                        ...                                prodej       byty   \n",
       "4                        ...                                prodej       byty   \n",
       "\n",
       "  podkategorie s_userid   s_mobile s_active                          s_web  \\\n",
       "0      rodinny  93045.0  800103010     True          http://www.rksting.cz   \n",
       "1         1+kk  10746.0  777150350     True  http://www.atlanticreality.cz   \n",
       "2      rodinny  55967.0  800103010     True          http://www.rksting.cz   \n",
       "3          2+1  70122.0  725873455     True              http://www.psn.cz   \n",
       "4          3+1  21014.0  603553458     True      http://www.adexreality.cz   \n",
       "\n",
       "                            s_name                      s_email  \\\n",
       "0  Realitní kancelář STING, s.r.o.  ceske.budejovice@rksting.cz   \n",
       "1         ATLANTIC reality, s.r.o.      info@atlanticreality.cz   \n",
       "2  Realitní kancelář STING, s.r.o.           chrudim@rksting.cz   \n",
       "3                      PSN, s.r.o.                   psn@psn.cz   \n",
       "4             ADEX REALITY, s.r.o.          info@adexreality.cz   \n",
       "\n",
       "                                               image  \n",
       "0  https://d18-a.sdn.szn.cz/d_18/c_img_G_i/fh5CBb...  \n",
       "1  https://d18-a.sdn.szn.cz/d_18/c_img_H_BA/YvtBA...  \n",
       "2  https://d18-a.sdn.szn.cz/d_18/c_img_H_BB/Pg4BJ...  \n",
       "3  https://d18-a.sdn.szn.cz/d_18/c_img_G_BE/YfhBf...  \n",
       "4  https://d18-a.sdn.szn.cz/d_18/c_img_E_BM/MTDBs...  \n",
       "\n",
       "[5 rows x 34 columns]"
      ]
     },
     "execution_count": 9,
     "metadata": {},
     "output_type": "execute_result"
    }
   ],
   "source": [
    "s.master_pandas.head()"
   ]
  },
  {
   "cell_type": "code",
   "execution_count": null,
   "metadata": {},
   "outputs": [],
   "source": []
  }
 ],
 "metadata": {
  "kernelspec": {
   "display_name": "Python 3",
   "language": "python",
   "name": "python3"
  },
  "language_info": {
   "codemirror_mode": {
    "name": "ipython",
    "version": 3
   },
   "file_extension": ".py",
   "mimetype": "text/x-python",
   "name": "python",
   "nbconvert_exporter": "python",
   "pygments_lexer": "ipython3",
   "version": "3.7.2"
  }
 },
 "nbformat": 4,
 "nbformat_minor": 2
}
