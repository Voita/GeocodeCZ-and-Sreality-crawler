{
 "cells": [
  {
   "cell_type": "markdown",
   "metadata": {},
   "source": [
    "# Data Visualization"
   ]
  },
  {
   "cell_type": "markdown",
   "metadata": {},
   "source": [
    "Our project is predominantly based on data mining of the real estate portal (Sreality) in the Czech Republic. The majority of the data gathered is going to be used in passion project of ours. However, the brief visualization can be found in this part of the project. The visualization is going to be divided in two parts - first, description of the width of real estate marktet and second, description of prices."
   ]
  },
  {
   "cell_type": "code",
   "execution_count": 2,
   "metadata": {},
   "outputs": [],
   "source": [
    "import pandas as pd\n",
    "import numpy as np\n",
    "import matplotlib.pyplot as plt\n",
    "import seaborn as sns"
   ]
  },
  {
   "cell_type": "code",
   "execution_count": 3,
   "metadata": {},
   "outputs": [],
   "source": [
    "data = pd.read_csv(\"/Users/Michael/Desktop/sreality_output_13052019.csv\")"
   ]
  },
  {
   "cell_type": "code",
   "execution_count": 4,
   "metadata": {},
   "outputs": [
    {
     "data": {
      "text/html": [
       "<div>\n",
       "<style scoped>\n",
       "    .dataframe tbody tr th:only-of-type {\n",
       "        vertical-align: middle;\n",
       "    }\n",
       "\n",
       "    .dataframe tbody tr th {\n",
       "        vertical-align: top;\n",
       "    }\n",
       "\n",
       "    .dataframe thead th {\n",
       "        text-align: right;\n",
       "    }\n",
       "</style>\n",
       "<table border=\"1\" class=\"dataframe\">\n",
       "  <thead>\n",
       "    <tr style=\"text-align: right;\">\n",
       "      <th></th>\n",
       "      <th>index</th>\n",
       "      <th>aukce</th>\n",
       "      <th>cena_aukce</th>\n",
       "      <th>lokalita</th>\n",
       "      <th>cena</th>\n",
       "      <th>cena_czk_value</th>\n",
       "      <th>cena_czk_unit</th>\n",
       "      <th>cena_czk_name</th>\n",
       "      <th>name</th>\n",
       "      <th>lat</th>\n",
       "      <th>...</th>\n",
       "      <th>typ_inzeratu</th>\n",
       "      <th>kategorie</th>\n",
       "      <th>podkategorie</th>\n",
       "      <th>s_userid</th>\n",
       "      <th>s_mobile</th>\n",
       "      <th>s_active</th>\n",
       "      <th>s_web</th>\n",
       "      <th>s_name</th>\n",
       "      <th>s_email</th>\n",
       "      <th>image</th>\n",
       "    </tr>\n",
       "  </thead>\n",
       "  <tbody>\n",
       "    <tr>\n",
       "      <th>0</th>\n",
       "      <td>1000096092</td>\n",
       "      <td>False</td>\n",
       "      <td>0.0</td>\n",
       "      <td>ulice Tyršova, Děčín - část obce Děčín I-Děčín</td>\n",
       "      <td>1</td>\n",
       "      <td>1</td>\n",
       "      <td>NaN</td>\n",
       "      <td>Celková cena</td>\n",
       "      <td>Prodej obchodního prostoru 1 383 m²</td>\n",
       "      <td>50.780903</td>\n",
       "      <td>...</td>\n",
       "      <td>prodej</td>\n",
       "      <td>komercni</td>\n",
       "      <td>obchodni prostory</td>\n",
       "      <td>82274.0</td>\n",
       "      <td>602974442.0</td>\n",
       "      <td>True</td>\n",
       "      <td>https://www.remaxeso.cz/</td>\n",
       "      <td>RE/MAX Eso</td>\n",
       "      <td>katerina.kotyzova@re-max.cz</td>\n",
       "      <td>https://d18-a.sdn.szn.cz/d_18/c_img_E_BI/v3qqX...</td>\n",
       "    </tr>\n",
       "  </tbody>\n",
       "</table>\n",
       "<p>1 rows × 34 columns</p>\n",
       "</div>"
      ],
      "text/plain": [
       "        index  aukce  cena_aukce  \\\n",
       "0  1000096092  False         0.0   \n",
       "\n",
       "                                         lokalita  cena  cena_czk_value  \\\n",
       "0  ulice Tyršova, Děčín - část obce Děčín I-Děčín     1               1   \n",
       "\n",
       "  cena_czk_unit cena_czk_name                                 name        lat  \\\n",
       "0           NaN  Celková cena  Prodej obchodního prostoru 1 383 m²  50.780903   \n",
       "\n",
       "   ...  typ_inzeratu  kategorie       podkategorie s_userid     s_mobile  \\\n",
       "0  ...        prodej   komercni  obchodni prostory  82274.0  602974442.0   \n",
       "\n",
       "  s_active                     s_web      s_name                      s_email  \\\n",
       "0     True  https://www.remaxeso.cz/  RE/MAX Eso  katerina.kotyzova@re-max.cz   \n",
       "\n",
       "                                               image  \n",
       "0  https://d18-a.sdn.szn.cz/d_18/c_img_E_BI/v3qqX...  \n",
       "\n",
       "[1 rows x 34 columns]"
      ]
     },
     "execution_count": 4,
     "metadata": {},
     "output_type": "execute_result"
    }
   ],
   "source": [
    "data.head(1)"
   ]
  },
  {
   "cell_type": "code",
   "execution_count": 5,
   "metadata": {},
   "outputs": [
    {
     "data": {
      "text/html": [
       "<div>\n",
       "<style scoped>\n",
       "    .dataframe tbody tr th:only-of-type {\n",
       "        vertical-align: middle;\n",
       "    }\n",
       "\n",
       "    .dataframe tbody tr th {\n",
       "        vertical-align: top;\n",
       "    }\n",
       "\n",
       "    .dataframe thead th {\n",
       "        text-align: right;\n",
       "    }\n",
       "</style>\n",
       "<table border=\"1\" class=\"dataframe\">\n",
       "  <thead>\n",
       "    <tr style=\"text-align: right;\">\n",
       "      <th></th>\n",
       "      <th>index</th>\n",
       "      <th>cena_aukce</th>\n",
       "      <th>cena</th>\n",
       "      <th>cena_czk_value</th>\n",
       "      <th>lat</th>\n",
       "      <th>lon</th>\n",
       "      <th>hash</th>\n",
       "      <th>price_whole</th>\n",
       "      <th>price_recalculated</th>\n",
       "      <th>s_userid</th>\n",
       "      <th>s_mobile</th>\n",
       "    </tr>\n",
       "  </thead>\n",
       "  <tbody>\n",
       "    <tr>\n",
       "      <th>count</th>\n",
       "      <td>5.976900e+04</td>\n",
       "      <td>5.976900e+04</td>\n",
       "      <td>5.976900e+04</td>\n",
       "      <td>5.976900e+04</td>\n",
       "      <td>59769.000000</td>\n",
       "      <td>59769.000000</td>\n",
       "      <td>5.976900e+04</td>\n",
       "      <td>5.408800e+04</td>\n",
       "      <td>1.845400e+04</td>\n",
       "      <td>59009.000000</td>\n",
       "      <td>5.899900e+04</td>\n",
       "    </tr>\n",
       "    <tr>\n",
       "      <th>mean</th>\n",
       "      <td>2.151101e+09</td>\n",
       "      <td>1.119390e+04</td>\n",
       "      <td>2.950667e+06</td>\n",
       "      <td>2.950667e+06</td>\n",
       "      <td>49.866166</td>\n",
       "      <td>15.343500</td>\n",
       "      <td>2.151101e+09</td>\n",
       "      <td>8.812985e+06</td>\n",
       "      <td>9.510605e+03</td>\n",
       "      <td>55635.180227</td>\n",
       "      <td>6.740549e+08</td>\n",
       "    </tr>\n",
       "    <tr>\n",
       "      <th>std</th>\n",
       "      <td>1.242095e+09</td>\n",
       "      <td>4.115669e+05</td>\n",
       "      <td>2.067613e+07</td>\n",
       "      <td>2.067613e+07</td>\n",
       "      <td>0.467330</td>\n",
       "      <td>1.555420</td>\n",
       "      <td>1.242095e+09</td>\n",
       "      <td>1.249993e+09</td>\n",
       "      <td>3.387385e+05</td>\n",
       "      <td>30932.923970</td>\n",
       "      <td>1.566348e+08</td>\n",
       "    </tr>\n",
       "    <tr>\n",
       "      <th>min</th>\n",
       "      <td>3.644400e+04</td>\n",
       "      <td>0.000000e+00</td>\n",
       "      <td>1.000000e+00</td>\n",
       "      <td>1.000000e+00</td>\n",
       "      <td>48.615200</td>\n",
       "      <td>12.163219</td>\n",
       "      <td>3.644400e+04</td>\n",
       "      <td>1.000000e+00</td>\n",
       "      <td>1.000000e+00</td>\n",
       "      <td>266.000000</td>\n",
       "      <td>1.702400e+04</td>\n",
       "    </tr>\n",
       "    <tr>\n",
       "      <th>25%</th>\n",
       "      <td>1.076727e+09</td>\n",
       "      <td>0.000000e+00</td>\n",
       "      <td>1.700000e+04</td>\n",
       "      <td>1.700000e+04</td>\n",
       "      <td>49.576118</td>\n",
       "      <td>14.371387</td>\n",
       "      <td>1.076727e+09</td>\n",
       "      <td>3.740000e+04</td>\n",
       "      <td>1.470000e+02</td>\n",
       "      <td>21098.000000</td>\n",
       "      <td>6.043418e+08</td>\n",
       "    </tr>\n",
       "    <tr>\n",
       "      <th>50%</th>\n",
       "      <td>2.152374e+09</td>\n",
       "      <td>0.000000e+00</td>\n",
       "      <td>1.070000e+06</td>\n",
       "      <td>1.070000e+06</td>\n",
       "      <td>49.997047</td>\n",
       "      <td>14.620621</td>\n",
       "      <td>2.152374e+09</td>\n",
       "      <td>1.485000e+06</td>\n",
       "      <td>3.854750e+02</td>\n",
       "      <td>66570.000000</td>\n",
       "      <td>7.329097e+08</td>\n",
       "    </tr>\n",
       "    <tr>\n",
       "      <th>75%</th>\n",
       "      <td>3.230421e+09</td>\n",
       "      <td>0.000000e+00</td>\n",
       "      <td>3.630000e+06</td>\n",
       "      <td>3.630000e+06</td>\n",
       "      <td>50.110455</td>\n",
       "      <td>16.610714</td>\n",
       "      <td>3.230421e+09</td>\n",
       "      <td>3.960000e+06</td>\n",
       "      <td>1.563750e+03</td>\n",
       "      <td>83705.000000</td>\n",
       "      <td>7.772247e+08</td>\n",
       "    </tr>\n",
       "    <tr>\n",
       "      <th>max</th>\n",
       "      <td>4.294819e+09</td>\n",
       "      <td>4.860400e+07</td>\n",
       "      <td>3.317330e+09</td>\n",
       "      <td>3.317330e+09</td>\n",
       "      <td>51.025295</td>\n",
       "      <td>18.833136</td>\n",
       "      <td>4.294819e+09</td>\n",
       "      <td>2.903713e+11</td>\n",
       "      <td>3.001533e+07</td>\n",
       "      <td>92777.000000</td>\n",
       "      <td>9.727419e+08</td>\n",
       "    </tr>\n",
       "  </tbody>\n",
       "</table>\n",
       "</div>"
      ],
      "text/plain": [
       "              index    cena_aukce          cena  cena_czk_value           lat  \\\n",
       "count  5.976900e+04  5.976900e+04  5.976900e+04    5.976900e+04  59769.000000   \n",
       "mean   2.151101e+09  1.119390e+04  2.950667e+06    2.950667e+06     49.866166   \n",
       "std    1.242095e+09  4.115669e+05  2.067613e+07    2.067613e+07      0.467330   \n",
       "min    3.644400e+04  0.000000e+00  1.000000e+00    1.000000e+00     48.615200   \n",
       "25%    1.076727e+09  0.000000e+00  1.700000e+04    1.700000e+04     49.576118   \n",
       "50%    2.152374e+09  0.000000e+00  1.070000e+06    1.070000e+06     49.997047   \n",
       "75%    3.230421e+09  0.000000e+00  3.630000e+06    3.630000e+06     50.110455   \n",
       "max    4.294819e+09  4.860400e+07  3.317330e+09    3.317330e+09     51.025295   \n",
       "\n",
       "                lon          hash   price_whole  price_recalculated  \\\n",
       "count  59769.000000  5.976900e+04  5.408800e+04        1.845400e+04   \n",
       "mean      15.343500  2.151101e+09  8.812985e+06        9.510605e+03   \n",
       "std        1.555420  1.242095e+09  1.249993e+09        3.387385e+05   \n",
       "min       12.163219  3.644400e+04  1.000000e+00        1.000000e+00   \n",
       "25%       14.371387  1.076727e+09  3.740000e+04        1.470000e+02   \n",
       "50%       14.620621  2.152374e+09  1.485000e+06        3.854750e+02   \n",
       "75%       16.610714  3.230421e+09  3.960000e+06        1.563750e+03   \n",
       "max       18.833136  4.294819e+09  2.903713e+11        3.001533e+07   \n",
       "\n",
       "           s_userid      s_mobile  \n",
       "count  59009.000000  5.899900e+04  \n",
       "mean   55635.180227  6.740549e+08  \n",
       "std    30932.923970  1.566348e+08  \n",
       "min      266.000000  1.702400e+04  \n",
       "25%    21098.000000  6.043418e+08  \n",
       "50%    66570.000000  7.329097e+08  \n",
       "75%    83705.000000  7.772247e+08  \n",
       "max    92777.000000  9.727419e+08  "
      ]
     },
     "execution_count": 5,
     "metadata": {},
     "output_type": "execute_result"
    }
   ],
   "source": [
    "# We are going to see what data looks like\n",
    "data.describe()"
   ]
  },
  {
   "cell_type": "code",
   "execution_count": 6,
   "metadata": {},
   "outputs": [
    {
     "data": {
      "text/plain": [
       "Index(['index', 'aukce', 'cena_aukce', 'lokalita', 'cena', 'cena_czk_value',\n",
       "       'cena_czk_unit', 'cena_czk_name', 'name', 'lat', 'lon', 'hash',\n",
       "       'urlSreality', 'linkdetail', 'download_date', 'description', 'geometry',\n",
       "       'locality_typ', 'locality_value', 'text', 'price_whole', 'price_freq',\n",
       "       'price_recalculated', 'price_recalculated_perunit', 'typ_inzeratu',\n",
       "       'kategorie', 'podkategorie', 's_userid', 's_mobile', 's_active',\n",
       "       's_web', 's_name', 's_email', 'image'],\n",
       "      dtype='object')"
      ]
     },
     "execution_count": 6,
     "metadata": {},
     "output_type": "execute_result"
    }
   ],
   "source": [
    "# let's see columns:\n",
    "data.columns"
   ]
  },
  {
   "cell_type": "code",
   "execution_count": 7,
   "metadata": {},
   "outputs": [
    {
     "data": {
      "text/plain": [
       "index                         59769\n",
       "aukce                         59769\n",
       "cena_aukce                    59769\n",
       "lokalita                      59769\n",
       "cena                          59769\n",
       "cena_czk_value                59769\n",
       "cena_czk_unit                 18759\n",
       "cena_czk_name                 59769\n",
       "name                          59611\n",
       "lat                           59769\n",
       "lon                           59769\n",
       "hash                          59769\n",
       "urlSreality                   59769\n",
       "linkdetail                    59769\n",
       "download_date                 59769\n",
       "description                   59611\n",
       "geometry                      59606\n",
       "locality_typ                  59611\n",
       "locality_value                59611\n",
       "text                          59611\n",
       "price_whole                   54088\n",
       "price_freq                    16804\n",
       "price_recalculated            18454\n",
       "price_recalculated_perunit    18454\n",
       "typ_inzeratu                  59611\n",
       "kategorie                     59611\n",
       "podkategorie                  59611\n",
       "s_userid                      59009\n",
       "s_mobile                      58999\n",
       "s_active                      59009\n",
       "s_web                         56564\n",
       "s_name                        59009\n",
       "s_email                       58173\n",
       "image                         59611\n",
       "dtype: int64"
      ]
     },
     "execution_count": 7,
     "metadata": {},
     "output_type": "execute_result"
    }
   ],
   "source": [
    "# we explored ambigious variables:\n",
    "data.count()"
   ]
  },
  {
   "cell_type": "code",
   "execution_count": 8,
   "metadata": {},
   "outputs": [
    {
     "data": {
      "text/plain": [
       "cena_czk_name\n",
       "Celková cena    59769\n",
       "dtype: int64"
      ]
     },
     "execution_count": 8,
     "metadata": {},
     "output_type": "execute_result"
    }
   ],
   "source": [
    "data.groupby(\"cena_czk_name\").size() #ok"
   ]
  },
  {
   "cell_type": "code",
   "execution_count": 9,
   "metadata": {},
   "outputs": [
    {
     "data": {
      "text/plain": [
       "cena_czk_unit\n",
       "za měsíc    18759\n",
       "dtype: int64"
      ]
     },
     "execution_count": 9,
     "metadata": {},
     "output_type": "execute_result"
    }
   ],
   "source": [
    "data.groupby(\"cena_czk_unit\").size() # 18759 \"za měsíc\" or NaN"
   ]
  },
  {
   "cell_type": "code",
   "execution_count": 10,
   "metadata": {},
   "outputs": [],
   "source": [
    "# We drop na for data where cathegory is missing, since this is a core variable for visualisation and it is only ~0.2% of data.\n",
    "data_clean = data.dropna(subset=['kategorie', 'podkategorie'])"
   ]
  },
  {
   "cell_type": "code",
   "execution_count": 11,
   "metadata": {},
   "outputs": [
    {
     "data": {
      "text/plain": [
       "podkategorie\n",
       "1+1                     1507\n",
       "1+kk                    2559\n",
       "2+1                     3704\n",
       "2+kk                    5201\n",
       "3+1                     3994\n",
       "3+kk                    3596\n",
       "4+1                      807\n",
       "4+kk                    1236\n",
       "5+1                      133\n",
       "5+kk                     219\n",
       "6 a vice                  89\n",
       "atypicky                 108\n",
       "bydleni                 5233\n",
       "chalupa                  683\n",
       "chata                   1409\n",
       "cinzovni dum             493\n",
       "garaz                    446\n",
       "garazove stani           216\n",
       "kancelare               4282\n",
       "komercni                 658\n",
       "lesy                     376\n",
       "louky                    363\n",
       "mobilheim                  7\n",
       "na klic                  319\n",
       "obchodni prostory       3038\n",
       "ostatni                 1397\n",
       "pamatka/jine              66\n",
       "pole                    1076\n",
       "pudni prostor              8\n",
       "restaurace               650\n",
       "rodinny                10787\n",
       "rybniky                   20\n",
       "sady/vinice               31\n",
       "sklady                  2016\n",
       "ubytovani                645\n",
       "unknown_byUs              58\n",
       "vila                     457\n",
       "vinny sklep               24\n",
       "vyroba                   771\n",
       "zahrady                  664\n",
       "zemedelska usedlost      153\n",
       "zemedelsky               112\n",
       "dtype: int64"
      ]
     },
     "execution_count": 11,
     "metadata": {},
     "output_type": "execute_result"
    }
   ],
   "source": [
    "# Let's see cathegories for future visualization\n",
    "data_clean.groupby(\"podkategorie\").size()"
   ]
  },
  {
   "cell_type": "markdown",
   "metadata": {},
   "source": [
    "## 1) Visualition - description of the Czech Real Estate market (proxied by Sreality)"
   ]
  },
  {
   "cell_type": "code",
   "execution_count": 12,
   "metadata": {},
   "outputs": [
    {
     "data": {
      "image/png": "[encoded data removed]",
      "text/plain": [
       "<Figure size 432x288 with 1 Axes>"
      ]
     },
     "metadata": {},
     "output_type": "display_data"
    }
   ],
   "source": [
    "sns.set(style=\"darkgrid\")\n",
    "\n",
    "ax = sns.countplot(x=\"typ_inzeratu\",palette=\"cubehelix\", data=data_clean)\n",
    "\n",
    "q=ax.set_title(\"Type of Deal\")\n",
    "q=ax.set(xticklabels=[\"Sale\", \"Rent\", \"Auction\"])\n",
    "q=ax.set(xlabel='Type', ylabel='Count')\n"
   ]
  },
  {
   "cell_type": "markdown",
   "metadata": {},
   "source": [
    "From the chart, we can see that the most listing are in form of sale. Afterwards, rent deals which is only approximately half of the sale deals. Furthermore, auction deals are only small negliable fraction of the Sreality web."
   ]
  },
  {
   "cell_type": "code",
   "execution_count": 13,
   "metadata": {},
   "outputs": [
    {
     "data": {
      "text/plain": [
       "5"
      ]
     },
     "execution_count": 13,
     "metadata": {},
     "output_type": "execute_result"
    }
   ],
   "source": [
    "5"
   ]
  },
  {
   "cell_type": "code",
   "execution_count": 14,
   "metadata": {},
   "outputs": [
    {
     "data": {
      "image/png": "[encoded data removed]",
      "text/plain": [
       "<Figure size 432x288 with 1 Axes>"
      ]
     },
     "metadata": {},
     "output_type": "display_data"
    }
   ],
   "source": [
    "sns.set(style=\"darkgrid\")\n",
    "ax = sns.countplot(x=\"kategorie\",palette=\"cubehelix\", data=data_clean)\n",
    "\n",
    "ax.set_title(\"Type of Real Estate\")\n",
    "q=ax.set(xticklabels=[\"Commercial\", \"House\", \"Land\", \"Flat\", \"Other\"])\n",
    "q=ax.set(xlabel='cathegory', ylabel='Count')"
   ]
  },
  {
   "cell_type": "markdown",
   "metadata": {},
   "source": [
    "From the type of Real Estate side, we can clearly see, that cathegory flats is the largest. The second largest on Sreality web are Houses. It is interesting, that after flats, even the house, commercial RE and land are very large cathegories. Let's look at the distribution of renting and selling of these Real Estate types, to get additional information about the market."
   ]
  },
  {
   "cell_type": "code",
   "execution_count": 15,
   "metadata": {},
   "outputs": [
    {
     "data": {
      "image/png": "[encoded data removed]",
      "text/plain": [
       "<Figure size 432x288 with 1 Axes>"
      ]
     },
     "metadata": {},
     "output_type": "display_data"
    }
   ],
   "source": [
    "sns.set(style=\"darkgrid\")\n",
    "ax = sns.countplot(x=\"kategorie\",palette=\"cubehelix\", data=data_clean, hue=\"typ_inzeratu\")\n",
    "\n",
    "q=ax.set_title(\"Type of Real Estate - Sale & Rent\")\n",
    "q=ax.set(xticklabels=[\"Commercial\", \"House\", \"Land\", \"Flat\", \"Other\"])\n",
    "q=ax.set(xlabel='cathegory', ylabel='Count')"
   ]
  },
  {
   "cell_type": "markdown",
   "metadata": {},
   "source": [
    "From the more detailed chart, we can see that commercial RE is mostly listed as a rental - which is common business practice (for example for offices). On the other hand, lands and houses are rarely rented, mostly only for sale. This confirms economical rationality of the market as these two cathegories can be rarely economically justified in case of renting. \n",
    "\n",
    "Moreover, we can see that majority of offered flats are for sale, which is interesting fact - we expected the ratios to be inverse, as the rents are rapidly increasing, however the prices increased as well and sellers may want to utilize a good economical conditions to sell their flats. Maybe, because the sellers are thinking that the economy is at its peek and the prices will go down. It would be interesting to see the ratio of sale/rent for flats (as flats are commonly being sold as well as rented) in the time-series data. It could be a good indicator of the market mood."
   ]
  },
  {
   "cell_type": "code",
   "execution_count": 16,
   "metadata": {},
   "outputs": [
    {
     "name": "stderr",
     "output_type": "stream",
     "text": [
      "/Users/Michael/miniconda3/lib/python3.6/site-packages/seaborn/categorical.py:3666: UserWarning: The `factorplot` function has been renamed to `catplot`. The original name will be removed in a future release. Please update your code. Note that the default `kind` in `factorplot` (`'point'`) has changed `'strip'` in `catplot`.\n",
      "  warnings.warn(msg)\n"
     ]
    },
    {
     "data": {
      "image/png": "[encoded data removed]",
      "text/plain": [
       "<Figure size 540x360 with 1 Axes>"
      ]
     },
     "metadata": {},
     "output_type": "display_data"
    }
   ],
   "source": [
    "data_tmp = data_clean[data_clean.kategorie==\"komercni\"]\n",
    "\n",
    "g = sns.factorplot(\"podkategorie\",palette=\"cubehelix\", data=data_tmp, \n",
    "                   aspect=1.5, kind=\"count\", color=\"b\",\n",
    "                  order = data_tmp['podkategorie'].value_counts().index\n",
    "                  )\n",
    "\n",
    "q=plt.title('Commercial RE')\n",
    "q=g.set(xticklabels=[\"Office\", \"Mercantile\", \"Warehouse\", \"Other\",\"Manufacturing\",\"Restaurant\",\"Lodging\",\"Tenement\",\"Agro\"])\n",
    "q=g.set(xlabel='Sub-cathegory', ylabel='Count')\n",
    "q=g.set_xticklabels(rotation=90)"
   ]
  },
  {
   "cell_type": "markdown",
   "metadata": {},
   "source": [
    "From the commercial Real Estate, the most offered sub-cathegory are Office and Mercantile."
   ]
  },
  {
   "cell_type": "code",
   "execution_count": 17,
   "metadata": {},
   "outputs": [
    {
     "data": {
      "image/png": "[encoded data removed]",
      "text/plain": [
       "<Figure size 540x360 with 1 Axes>"
      ]
     },
     "metadata": {},
     "output_type": "display_data"
    }
   ],
   "source": [
    "data_tmp = data_clean[data_clean.kategorie==\"domy\"]\n",
    "\n",
    "g = sns.factorplot(\"podkategorie\",palette=\"cubehelix\", data=data_tmp, \n",
    "                   aspect=1.5, kind=\"count\", color=\"b\",\n",
    "                  order = data_tmp['podkategorie'].value_counts().index\n",
    "                  )\n",
    "q=plt.title('House')\n",
    "q=g.set(xticklabels=[\"Family House\", \"Cottage\", \"cabin\", \"Mansion\",\"Customizable\",\"Agro-like\",\"Other\"])\n",
    "q=g.set(xlabel='Sub-cathegory', ylabel='Count')\n",
    "q=g.set_xticklabels(rotation=90)"
   ]
  },
  {
   "cell_type": "markdown",
   "metadata": {},
   "source": [
    "From Cathegory House - the classical houses (\"family house\") are the biggest sub-cathegory."
   ]
  },
  {
   "cell_type": "code",
   "execution_count": 18,
   "metadata": {},
   "outputs": [
    {
     "data": {
      "image/png": "[encoded data removed]",
      "text/plain": [
       "<Figure size 540x360 with 1 Axes>"
      ]
     },
     "metadata": {},
     "output_type": "display_data"
    }
   ],
   "source": [
    "data_tmp = data_clean[data_clean.kategorie==\"pozemky\"]\n",
    "\n",
    "g = sns.factorplot(\"podkategorie\",palette=\"cubehelix\", data=data_tmp, \n",
    "                   aspect=1.5, kind=\"count\", color=\"b\",\n",
    "                  order = data_tmp['podkategorie'].value_counts().index\n",
    "                  )\n",
    "q=plt.title('Land')\n",
    "q=g.set(xticklabels=[\"house-friendly\", \"field\", \"garden\", \"commercial\",\"other\",\"forrest\",\"medow\",\"orchard\",\"pond\"])\n",
    "q=g.set(xlabel='Sub-cathegory', ylabel='Count')\n",
    "q=g.set_xticklabels(rotation=90)"
   ]
  },
  {
   "cell_type": "markdown",
   "metadata": {},
   "source": [
    "Classical land offered for house building is the main sub-cathegory."
   ]
  },
  {
   "cell_type": "code",
   "execution_count": 19,
   "metadata": {},
   "outputs": [
    {
     "data": {
      "image/png": "[encoded data removed]",
      "text/plain": [
       "<Figure size 540x360 with 1 Axes>"
      ]
     },
     "metadata": {},
     "output_type": "display_data"
    }
   ],
   "source": [
    "data_tmp = data_clean[data_clean.kategorie==\"byty\"]\n",
    "\n",
    "g = sns.factorplot(\"podkategorie\",palette=\"cubehelix\", data=data_tmp, \n",
    "                   aspect=1.5, kind=\"count\", color=\"b\",\n",
    "                  order = data_tmp['podkategorie'].value_counts().index\n",
    "                  )\n",
    "q=plt.title('Flat')\n",
    "q=g.set(xticklabels=[\"2+kk\", \"3+1\", \"2+1\", \"3+kk\",\"1+kk\",\"1+1\",\"4+kk\",\"4+1\",\"5+kk\",\"5+1\",\"atypical\",\"6+\",\"unknown\"])\n",
    "q=g.set(xlabel='Sub-cathegory', ylabel='Count')\n",
    "q=g.set_xticklabels(rotation=90)"
   ]
  },
  {
   "cell_type": "markdown",
   "metadata": {},
   "source": [
    "This sub-cathegory is the most interesting. We can see that the supply of flats is strongest for 2 or 3 rommed flats and than for flats with 1 room. (kk = kitchenette)"
   ]
  },
  {
   "cell_type": "code",
   "execution_count": 20,
   "metadata": {},
   "outputs": [
    {
     "data": {
      "image/png": "[encoded data removed]",
      "text/plain": [
       "<Figure size 540x360 with 1 Axes>"
      ]
     },
     "metadata": {},
     "output_type": "display_data"
    }
   ],
   "source": [
    "data_tmp = data_clean[data_clean.kategorie==\"ostatni\"]\n",
    "\n",
    "g = sns.factorplot(\"podkategorie\",palette=\"cubehelix\", data=data_tmp, \n",
    "                   aspect=1.5, kind=\"count\", color=\"b\",\n",
    "                  order = data_tmp['podkategorie'].value_counts().index\n",
    "                  )\n",
    "\n",
    "q=plt.title('Other')\n",
    "q=g.set(xticklabels=[\"garage\", \"outside parking\", \"other\", \"wine cellar\",\"storage_loft\",\"mobilheim\"])\n",
    "q=g.set(xlabel='Sub-cathegory', ylabel='Count')\n",
    "q=g.set_xticklabels(rotation=90)"
   ]
  },
  {
   "cell_type": "markdown",
   "metadata": {},
   "source": [
    "Parking spaces are dominating the Other cathegory. \n",
    "\n",
    "(Morover, we were suprised that we can choose from a solid variety of wine cellars in case of midlife crisis.)"
   ]
  },
  {
   "cell_type": "code",
   "execution_count": 21,
   "metadata": {},
   "outputs": [
    {
     "data": {
      "image/png": "[encoded data removed]",
      "text/plain": [
       "<Figure size 625.725x360 with 1 Axes>"
      ]
     },
     "metadata": {},
     "output_type": "display_data"
    }
   ],
   "source": [
    "data_tmp = data_clean[data_clean.kategorie==\"byty\"]\n",
    "\n",
    "g = sns.factorplot(\"podkategorie\",palette=\"cubehelix\", data=data_tmp, \n",
    "                   aspect=1.5, kind=\"count\", color=\"b\",\n",
    "                  order = data_tmp['podkategorie'].value_counts().index, \n",
    "\n",
    "                   hue=\"typ_inzeratu\")\n",
    "q=plt.title('Buy/Rent/Auction')\n",
    "q=g.set(xticklabels=[\"2+kk\", \"3+1\", \"2+1\", \"3+kk\",\"1+kk\",\"1+1\",\"4+kk\",\"4+1\",\"5+kk\",\"5+1\",\"atypical\",\"6+\",\"unknown\"])\n",
    "q=g.set(xlabel='Sub-cathegory', ylabel='Count')\n",
    "q=g.set_xticklabels(rotation=90)"
   ]
  },
  {
   "cell_type": "markdown",
   "metadata": {},
   "source": [
    "We can see that best offer is for 2+kk, it may imply higher demand for 2+kk. Also small 1+1 and 1+kk are relatively largely utilized as rentals. Generally,the smaller the flat the higher the ratio of renting offers to all offers."
   ]
  },
  {
   "cell_type": "code",
   "execution_count": 22,
   "metadata": {},
   "outputs": [
    {
     "name": "stderr",
     "output_type": "stream",
     "text": [
      "/Users/Michael/miniconda3/lib/python3.6/site-packages/ipykernel_launcher.py:3: SettingWithCopyWarning: \n",
      "A value is trying to be set on a copy of a slice from a DataFrame.\n",
      "Try using .loc[row_indexer,col_indexer] = value instead\n",
      "\n",
      "See the caveats in the documentation: http://pandas.pydata.org/pandas-docs/stable/indexing.html#indexing-view-versus-copy\n",
      "  This is separate from the ipykernel package so we can avoid doing imports until\n"
     ]
    }
   ],
   "source": [
    "#Some prices are weird (i.e. 1CZK). We believe its price that is going to be negotiated later.\n",
    "\n",
    "data_clean[\"flag_1CZK\"] = data_clean.cena == 1"
   ]
  },
  {
   "cell_type": "code",
   "execution_count": 23,
   "metadata": {},
   "outputs": [
    {
     "data": {
      "text/plain": [
       "5524"
      ]
     },
     "execution_count": 23,
     "metadata": {},
     "output_type": "execute_result"
    }
   ],
   "source": [
    "#number of 1CZK listing => negotiable listings\n",
    "sum(data_clean.flag_1CZK == 1)"
   ]
  },
  {
   "cell_type": "code",
   "execution_count": 24,
   "metadata": {},
   "outputs": [
    {
     "data": {
      "text/html": [
       "<div>\n",
       "<style scoped>\n",
       "    .dataframe tbody tr th:only-of-type {\n",
       "        vertical-align: middle;\n",
       "    }\n",
       "\n",
       "    .dataframe tbody tr th {\n",
       "        vertical-align: top;\n",
       "    }\n",
       "\n",
       "    .dataframe thead th {\n",
       "        text-align: right;\n",
       "    }\n",
       "</style>\n",
       "<table border=\"1\" class=\"dataframe\">\n",
       "  <thead>\n",
       "    <tr style=\"text-align: right;\">\n",
       "      <th></th>\n",
       "      <th></th>\n",
       "      <th>cena</th>\n",
       "    </tr>\n",
       "    <tr>\n",
       "      <th>typ_inzeratu</th>\n",
       "      <th>flag_1CZK</th>\n",
       "      <th></th>\n",
       "    </tr>\n",
       "  </thead>\n",
       "  <tbody>\n",
       "    <tr>\n",
       "      <th>drazby</th>\n",
       "      <th>False</th>\n",
       "      <td>374</td>\n",
       "    </tr>\n",
       "    <tr>\n",
       "      <th rowspan=\"2\" valign=\"top\">prodej</th>\n",
       "      <th>False</th>\n",
       "      <td>36908</td>\n",
       "    </tr>\n",
       "    <tr>\n",
       "      <th>True</th>\n",
       "      <td>3635</td>\n",
       "    </tr>\n",
       "    <tr>\n",
       "      <th rowspan=\"2\" valign=\"top\">pronajem</th>\n",
       "      <th>False</th>\n",
       "      <td>16805</td>\n",
       "    </tr>\n",
       "    <tr>\n",
       "      <th>True</th>\n",
       "      <td>1889</td>\n",
       "    </tr>\n",
       "  </tbody>\n",
       "</table>\n",
       "</div>"
      ],
      "text/plain": [
       "                         cena\n",
       "typ_inzeratu flag_1CZK       \n",
       "drazby       False        374\n",
       "prodej       False      36908\n",
       "             True        3635\n",
       "pronajem     False      16805\n",
       "             True        1889"
      ]
     },
     "execution_count": 24,
     "metadata": {},
     "output_type": "execute_result"
    }
   ],
   "source": [
    "#number of 1czk by sale and rent\n",
    "data_clean[[\"typ_inzeratu\", \"flag_1CZK\", \"cena\"]].groupby([ \"typ_inzeratu\", \"flag_1CZK\"]).count()"
   ]
  },
  {
   "cell_type": "code",
   "execution_count": 25,
   "metadata": {},
   "outputs": [
    {
     "data": {
      "image/png": "[encoded data removed]",
      "text/plain": [
       "<Figure size 432x288 with 1 Axes>"
      ]
     },
     "metadata": {},
     "output_type": "display_data"
    }
   ],
   "source": [
    "sns.set(style=\"darkgrid\")\n",
    "ax = sns.countplot(x=\"typ_inzeratu\",palette=\"cubehelix\", data=data_clean, hue=\"flag_1CZK\")\n",
    "q=plt.title('normal prices vs. \"negotiable prices\"')\n",
    "q=ax.set(xticklabels=[\"sale\", \"rent\", \"auction\"])\n",
    "q=g.set(xlabel='Type', ylabel='Count')"
   ]
  },
  {
   "cell_type": "markdown",
   "metadata": {},
   "source": [
    "Relatively small percantage of deals are negotiable."
   ]
  },
  {
   "cell_type": "code",
   "execution_count": 26,
   "metadata": {},
   "outputs": [
    {
     "data": {
      "text/plain": [
       "<seaborn.axisgrid.FacetGrid at 0x120573c50>"
      ]
     },
     "execution_count": 26,
     "metadata": {},
     "output_type": "execute_result"
    },
    {
     "data": {
      "image/png": "[encoded data removed]",
      "text/plain": [
       "<Figure size 540x360 with 1 Axes>"
      ]
     },
     "metadata": {},
     "output_type": "display_data"
    }
   ],
   "source": [
    "# frequent real estate agency\n",
    "g = sns.factorplot(\"podkategorie\",palette=\"cubehelix\", data=data_clean, \n",
    "                   aspect=1.5, kind=\"count\", color=\"b\",\n",
    "                  order = data_clean['podkategorie'].value_counts().index)\n",
    "g.set_xticklabels(rotation=90)"
   ]
  },
  {
   "cell_type": "markdown",
   "metadata": {},
   "source": [
    "Big picture of Sub-cathegory - as seen on the charts before."
   ]
  },
  {
   "cell_type": "code",
   "execution_count": null,
   "metadata": {},
   "outputs": [],
   "source": [
    "#frequent real estate agency\n",
    "#select top 20 agencies\n",
    "d = data_clean.groupby(\"s_name\").count()[\"index\"].sort_values(ascending=False)[0:20]"
   ]
  },
  {
   "cell_type": "code",
   "execution_count": null,
   "metadata": {},
   "outputs": [],
   "source": [
    "dd = pd.DataFrame(d)\n",
    "proc = pd.DataFrame(d/data_clean.s_name.count()*100)"
   ]
  },
  {
   "cell_type": "code",
   "execution_count": null,
   "metadata": {},
   "outputs": [],
   "source": [
    "dd.head()"
   ]
  },
  {
   "cell_type": "code",
   "execution_count": null,
   "metadata": {},
   "outputs": [],
   "source": [
    "proc.head()"
   ]
  },
  {
   "cell_type": "code",
   "execution_count": null,
   "metadata": {},
   "outputs": [],
   "source": [
    "data_clean_sub = data_clean[data_clean.s_name.isin(dd.index)]"
   ]
  },
  {
   "cell_type": "code",
   "execution_count": null,
   "metadata": {},
   "outputs": [],
   "source": [
    "# frequent real estate agency\n",
    "g = sns.factorplot(\"s_name\",palette=\"cubehelix\", data=data_clean_sub, \n",
    "                   aspect=1.5, kind=\"count\", color=\"b\",\n",
    "                  order = data_clean_sub['s_name'].value_counts().index)\n",
    "\n",
    "q=plt.title('# of Listings of Top 20 users on Sreality')\n",
    "\n",
    "q=g.set(xlabel='User', ylabel='Count')\n",
    "g.set_xticklabels(rotation=90)"
   ]
  },
  {
   "cell_type": "markdown",
   "metadata": {},
   "source": [
    "M&M reality is the biggest listing entity on the Sreality web, which is not suprising since M&M reality is the biggest real estate agency in the Czech Republic. However the gap between the M&M and rest is suprisingly big - the M&M has more than 6,600 listings (11.2% share), the second bigest agency has only 1,200 with 2% market share. In next section, we will look at the price point offered by these RE agencies."
   ]
  },
  {
   "cell_type": "markdown",
   "metadata": {},
   "source": [
    "## 2) Visualition - prices in the Czech Real Estate market (proxied by Sreality)"
   ]
  },
  {
   "cell_type": "markdown",
   "metadata": {},
   "source": [
    "First of all, we are going to clean data (for price visualization). Such a Auction cathegory - since it small and provide mixed information."
   ]
  },
  {
   "cell_type": "code",
   "execution_count": null,
   "metadata": {},
   "outputs": [],
   "source": [
    "data_clean[[\"typ_inzeratu\",\"aukce\"]].groupby(\"aukce\").count()"
   ]
  },
  {
   "cell_type": "code",
   "execution_count": null,
   "metadata": {},
   "outputs": [],
   "source": [
    "#drop auction due to their unrealistic values.\n",
    "noaukce = data_clean[data.aukce == 0]"
   ]
  },
  {
   "cell_type": "markdown",
   "metadata": {},
   "source": [
    "Drop weird prices (i.e. price 1czk and also drop extremely large values (they imply misleading histograms...) we will use data up to 99 percentile of price."
   ]
  },
  {
   "cell_type": "code",
   "execution_count": null,
   "metadata": {},
   "outputs": [],
   "source": [
    "sns.set(style=\"darkgrid\")\n",
    "ax = sns.countplot(x=\"aukce\", data=data_clean)"
   ]
  },
  {
   "cell_type": "markdown",
   "metadata": {},
   "source": [
    "Overall, we are going to select non-auction data and price that is not \"negotiable (i.e. 1czk)\" and use only 99 percentile."
   ]
  },
  {
   "cell_type": "code",
   "execution_count": null,
   "metadata": {},
   "outputs": [],
   "source": [
    "noaukce_data_tmp = noaukce[noaukce.cena < np.percentile(noaukce.cena, 99)]\n",
    "\n",
    "noaukce_data_clean = noaukce_data_tmp[noaukce_data_tmp.cena > 1]"
   ]
  },
  {
   "cell_type": "code",
   "execution_count": null,
   "metadata": {},
   "outputs": [],
   "source": [
    "noaukce_data_clean.cena.describe()"
   ]
  },
  {
   "cell_type": "code",
   "execution_count": null,
   "metadata": {},
   "outputs": [],
   "source": [
    "#convert price to thousands -> cleaner charts\n",
    "noaukce_data_clean.cena = noaukce_data_clean.cena / 1000"
   ]
  },
  {
   "cell_type": "code",
   "execution_count": null,
   "metadata": {},
   "outputs": [],
   "source": [
    "plt.figure(figsize=(15, 5), dpi= 80, facecolor='w', edgecolor='k')\n",
    "\n",
    "plt.subplot(1, 3, 1)\n",
    "#distibution of prices (both rent and sell)\n",
    "sns.distplot(noaukce_data_clean.cena)\n",
    "q=plt.title('Price distribution of All')\n",
    "\n",
    "\n",
    "plt.subplot(1, 3, 2)\n",
    "#distribution of prices - rent\n",
    "tmp_rent = noaukce_data_clean[noaukce_data_clean.typ_inzeratu == \"pronajem\"]\n",
    "sns.distplot(tmp_rent.cena)\n",
    "q=plt.title('Price distribution of Rent')\n",
    "\n",
    "plt.subplot(1, 3, 3)\n",
    "#distribution of prices - rent\n",
    "tmp_sell = noaukce_data_clean[noaukce_data_clean.typ_inzeratu == \"prodej\"]\n",
    "sns.distplot(tmp_sell.cena)\n",
    "q=plt.title('Price distribution of Sale')"
   ]
  },
  {
   "cell_type": "markdown",
   "metadata": {},
   "source": [
    "Distrubutions of price for Sale, Rent and all"
   ]
  },
  {
   "cell_type": "code",
   "execution_count": null,
   "metadata": {},
   "outputs": [],
   "source": [
    "tmp_rent.cena.describe()"
   ]
  },
  {
   "cell_type": "markdown",
   "metadata": {},
   "source": [
    "## Here we present the most important charts of the analysis:"
   ]
  },
  {
   "cell_type": "markdown",
   "metadata": {},
   "source": [
    "#### boxplots\n"
   ]
  },
  {
   "cell_type": "code",
   "execution_count": null,
   "metadata": {},
   "outputs": [],
   "source": [
    "noaukce_data_clean_sale = noaukce_data_clean[noaukce_data_clean.typ_inzeratu == \"prodej\"]"
   ]
  },
  {
   "cell_type": "code",
   "execution_count": null,
   "metadata": {},
   "outputs": [],
   "source": [
    "# rent values might still be unrealistically high (either they are outliers or just high values)"
   ]
  },
  {
   "cell_type": "code",
   "execution_count": null,
   "metadata": {},
   "outputs": [],
   "source": [
    "noaukce_data_clean_rent = noaukce_data_clean[noaukce_data_clean.typ_inzeratu == \"pronajem\"]"
   ]
  },
  {
   "cell_type": "code",
   "execution_count": null,
   "metadata": {},
   "outputs": [],
   "source": [
    "#dropping outliers for rent -> to have cleaner statitstics (distribution of rents was very heavy tailed)\n",
    "noaukce_data_clean_rent = noaukce_data_clean_rent[noaukce_data_clean_rent.cena < np.percentile(noaukce_data_clean_rent.cena, 99)]"
   ]
  },
  {
   "cell_type": "code",
   "execution_count": null,
   "metadata": {},
   "outputs": [],
   "source": [
    "#sorting ids for following boxplots\n",
    "sortid_noaukce_data_clean_sale = noaukce_data_clean_sale.groupby(\"kategorie\").median()[\"cena\"].sort_values().index\n",
    "\n",
    "sortid_noaukce_data_clean_rent = noaukce_data_clean_rent.groupby(\"kategorie\").median()[\"cena\"].sort_values().index"
   ]
  },
  {
   "cell_type": "code",
   "execution_count": null,
   "metadata": {},
   "outputs": [],
   "source": [
    "#boxpolot\n",
    "plt.figure(figsize=(15, 5), dpi= 80, facecolor='w', edgecolor='k')\n",
    "\n",
    "plt.subplot(1, 2, 1)\n",
    "ax = sns.boxplot(x=\"kategorie\", y=\"cena\", data=noaukce_data_clean_sale, showfliers=False, whis=0.5,\n",
    "            showmeans=True,palette=\"cubehelix\", order = sortid_noaukce_data_clean_sale)\n",
    "q=plt.title('Prices For Sale')\n",
    "q=ax.set(xticklabels=[\"Other\", \"Land\", \"Flat\", \"House\",\"Commercial\"])\n",
    "q=ax.set(xlabel='Cathegory', ylabel='Price mCZK')\n",
    "\n",
    "\n",
    "\n",
    "plt.subplot(1, 2, 2)\n",
    "ax = sns.boxplot(x=\"kategorie\", y=\"cena\", data=noaukce_data_clean_rent, showfliers=False, whis=0.5,\n",
    "            showmeans=True,palette=\"cubehelix\", order = sortid_noaukce_data_clean_sale)\n",
    "q=plt.title('Prices For Rent')\n",
    "q=ax.set(xticklabels=[\"Other\", \"Land\", \"Flat\", \"House\",\"Commercial\"])\n",
    "q=ax.set(xlabel='Cathegory', ylabel='Price mCZK')\n"
   ]
  },
  {
   "cell_type": "markdown",
   "metadata": {},
   "source": [
    "From the For sale chart, we can see that land is on average the cheapest cathegory on Sreality. Moreover, flats are second, however very close to houses on its median prices! - This provide us with information that prices in the cities are increasing very rapidly and now are almost as expensive as houses (probably on the suburban and rural areas). Commercial RE prices fluctuates due to the variety of groups (office, agro, warehouse,etc.).\n",
    "\n",
    "The rent prices are, on the other hand much more expensive for houses compared to flats. Land rentals vary greatly in terms of price and commercial cathegory is very similar in terms of sale and rental."
   ]
  },
  {
   "cell_type": "code",
   "execution_count": null,
   "metadata": {},
   "outputs": [],
   "source": [
    "sort_id_byty_sale = noaukce_data_clean_sale[noaukce_data_clean_sale.kategorie==\"byty\"].groupby(\"podkategorie\").median()[\"cena\"].sort_values().index"
   ]
  },
  {
   "cell_type": "code",
   "execution_count": null,
   "metadata": {},
   "outputs": [],
   "source": [
    "sort_id_byty_rent = noaukce_data_clean_rent[noaukce_data_clean_rent.kategorie==\"byty\"].groupby(\"podkategorie\").median()[\"cena\"].sort_values().index"
   ]
  },
  {
   "cell_type": "code",
   "execution_count": null,
   "metadata": {},
   "outputs": [],
   "source": [
    "plt.figure(figsize=(15, 5), dpi= 80, facecolor='w', edgecolor='k')\n",
    "\n",
    "plt.subplot(1, 2, 1)\n",
    "ax = sns.boxplot(x=\"podkategorie\", y=\"cena\", data=noaukce_data_clean_sale[noaukce_data_clean_sale.kategorie==\"byty\"], \n",
    "                 showfliers=False, whis=0.5,showmeans=True,palette=\"cubehelix\",\n",
    "                order = sort_id_byty_sale)\n",
    "ax.set_xticklabels(ax.get_xticklabels(), rotation=90)\n",
    "q=plt.title('Prices of Flats For Sale')\n",
    "q=ax.set(xticklabels=[\"1+1\", \"2+1\", \"3+1\", \"1+kk\",\"4+1\",\"2+kk\",\"atypical\",\"3+kk\",\"5+1\",\"4+kk\",\"6+\",\"5+kk\"])\n",
    "q=ax.set(xlabel='Sub-Cathegory', ylabel='Price mCZK')\n",
    "\n",
    "plt.subplot(1, 2, 2)\n",
    "ax2 = sns.boxplot(x=\"podkategorie\", y=\"cena\", data=noaukce_data_clean_rent[noaukce_data_clean_rent.kategorie==\"byty\"],\n",
    "                  showfliers=False, whis=0.5,showmeans=True,palette=\"cubehelix\",\n",
    "                 order = sort_id_byty_sale)\n",
    "e=ax2.set_xticklabels(ax2.get_xticklabels(), rotation=90)\n",
    "q=plt.title('Prices of Flats For Rent')\n",
    "q=ax2.set(xticklabels=[\"1+1\", \"2+1\", \"3+1\", \"1+kk\",\"4+1\",\"2+kk\",\"atypical\",\"3+kk\",\"5+1\",\"4+kk\",\"6+\",\"5+kk\"])\n",
    "q=ax2.set(xlabel='Sub-Cathegory', ylabel='Price mCZK')\n"
   ]
  },
  {
   "cell_type": "markdown",
   "metadata": {},
   "source": [
    "The prices follow .. On average the \"KK\" flats are more expensive than \"+1\" flats. This is an interesting finding. Moreover, in our Sample, the 1+kk tend to be relatively expensive - it could be due to the fact that these flats tend to be large, or due to a location -> we will examine these nuances in our project in the future.However, generally the rule: more rooms -> higher the price, holds.\n",
    "\n",
    "Moreover, the rent prices holds with the prices for sale!."
   ]
  },
  {
   "cell_type": "markdown",
   "metadata": {},
   "source": [
    "### Now, let's see the real estate agencies and their offering:"
   ]
  },
  {
   "cell_type": "code",
   "execution_count": null,
   "metadata": {},
   "outputs": [],
   "source": [
    "# take top 20 real estate agencies\n",
    "\n",
    "data_clean_sub = data_clean[data_clean.s_name.isin(dd.index)]"
   ]
  },
  {
   "cell_type": "code",
   "execution_count": null,
   "metadata": {},
   "outputs": [],
   "source": [
    "noaukce_data_clean_sale_top20 = noaukce_data_clean_sale[noaukce_data_clean_sale.s_name.isin(dd.index)] \n",
    "\n",
    "#get only byty\n",
    "noaukce_data_clean_sale_top20 = noaukce_data_clean_sale_top20[noaukce_data_clean_sale_top20.kategorie==\"byty\"]"
   ]
  },
  {
   "cell_type": "code",
   "execution_count": null,
   "metadata": {},
   "outputs": [],
   "source": [
    "noaukce_data_clean_rent_top20 = noaukce_data_clean_rent[noaukce_data_clean_rent.s_name.isin(dd.index)]\n",
    "\n",
    "#get only byty\n",
    "noaukce_data_clean_rent_top20 = noaukce_data_clean_rent_top20[noaukce_data_clean_rent_top20.kategorie==\"byty\"]"
   ]
  },
  {
   "cell_type": "code",
   "execution_count": null,
   "metadata": {},
   "outputs": [],
   "source": [
    "#sort them by median\n",
    "sort_id_realitka_sale = noaukce_data_clean_sale_top20.groupby(\"s_name\").mean()[\"cena\"].sort_values().index\n",
    "\n",
    "sort_id_realitka_rent = noaukce_data_clean_rent_top20.groupby(\"s_name\").mean()[\"cena\"].sort_values().index"
   ]
  },
  {
   "cell_type": "code",
   "execution_count": null,
   "metadata": {},
   "outputs": [],
   "source": [
    "plt.figure(figsize=(15, 5), dpi= 80, facecolor='w', edgecolor='k')\n",
    "\n",
    "plt.subplot(1, 2, 1)\n",
    "ax = sns.boxplot(x=\"s_name\", y=\"cena\", data=noaukce_data_clean_sale_top20, \n",
    "                 showfliers=False, whis=0.5,showmeans=True,palette=\"cubehelix\",\n",
    "                order = sort_id_realitka_sale)\n",
    "ax.set_xticklabels(ax.get_xticklabels(), rotation=90)\n",
    "q=plt.title('Top 20 RE agencies and their prices - Flat For Sale')\n",
    "q=ax.set(xlabel='Agency', ylabel='Price mCZK')\n",
    "\n",
    "plt.subplot(1, 2, 2)\n",
    "ax2 = sns.boxplot(x=\"s_name\", y=\"cena\", data=noaukce_data_clean_rent_top20,\n",
    "                  showfliers=False, whis=0.5,showmeans=True,palette=\"cubehelix\",\n",
    "                 order = sort_id_realitka_sale)\n",
    "e=ax2.set_xticklabels(ax2.get_xticklabels(), rotation=90)\n",
    "q=plt.title('Top 20 RE agencies and their prices - Flat For Rent')\n",
    "q=ax2.set(xlabel='Agency', ylabel='Price mCZK')"
   ]
  },
  {
   "cell_type": "markdown",
   "metadata": {},
   "source": [
    "On the charts presenting below, we are showing the low-cost and high-end agencies, so if someone wants to sell a small flat he should go to the Sting, M&M or ProRadost agencies. However, if the mansion wants to be sold - we would recommned to go to Svoboda & Williams, Lexxus Norton or Home Sweet Home agencies. "
   ]
  },
  {
   "cell_type": "markdown",
   "metadata": {},
   "source": [
    "### Major findings:"
   ]
  },
  {
   "cell_type": "markdown",
   "metadata": {},
   "source": [
    "  - Cathegories House and Land are lacking supply almost surely due to low demand for rental purposes.\n",
    "  - Sale/Rent Ratio for flats can be a good proxy for market mood \n",
    "  - The most liquid market for selling/renting is market for flats, especially for small to medium sized flats (1+1, 1+kk, 2+1, 2+kk, 3+1, 3+kk).\n",
    "  - The 1+1 and 1+kk have the highest proportion of Rental listings -> probably a lot of people are investing into RE through affordable 1+1 and 1+kk and renting these flats.\n",
    "  - In the For Sale cathegory, the Flats and Houses are on average very similarly priced, at least on Sreality. This Could have very interesting implications for a future research.\n",
    "\n",
    "  - \"KK\" flats are on average more expensive than \"+1\" - for both Sale and Rent\n",
    "  - We arrange the agencies according to their price points - so people can find appropriate agency according to agency added value (experience) in the fields of low - high price points.\n",
    "  - On Sreality, there is relatively significant share of listings with price of 1czk - we believe that it is a negotiable price. This could be also interesting topic for a future research.\n",
    "  - The M&M reality is the biggest reality lister on the Sreality with the ~11% market share."
   ]
  }
 ],
 "metadata": {
  "kernelspec": {
   "display_name": "Python 3",
   "language": "python",
   "name": "python3"
  },
  "language_info": {
   "codemirror_mode": {
    "name": "ipython",
    "version": 3
   },
   "file_extension": ".py",
   "mimetype": "text/x-python",
   "name": "python",
   "nbconvert_exporter": "python",
   "pygments_lexer": "ipython3",
   "version": "3.6.8"
  }
 },
 "nbformat": 4,
 "nbformat_minor": 2
}
